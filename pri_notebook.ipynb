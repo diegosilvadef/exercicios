{
 "cells": [
  {
   "cell_type": "code",
   "execution_count": 26,
   "id": "d667055c",
   "metadata": {},
   "outputs": [],
   "source": [
    "import pandas as pd\n",
    "from datetime import datetime"
   ]
  },
  {
   "cell_type": "code",
   "execution_count": 43,
   "id": "e6866493",
   "metadata": {},
   "outputs": [],
   "source": [
    "df= pd.read_csv('contratos.csv', sep=',', header=0, encoding='ISO-8859-1')"
   ]
  },
  {
   "cell_type": "code",
   "execution_count": 49,
   "id": "18590d37",
   "metadata": {},
   "outputs": [],
   "source": [
    "df.dropna(inplace=True)"
   ]
  },
  {
   "cell_type": "code",
   "execution_count": 45,
   "id": "59ca4f28",
   "metadata": {},
   "outputs": [],
   "source": [
    "#Definindo colunas de data\n",
    "cols_date = ['data_assinatura', 'data_publicacao', 'vigencia_inicio', 'vigencia_fim']"
   ]
  },
  {
   "cell_type": "code",
   "execution_count": 48,
   "id": "423e0ac0",
   "metadata": {
    "collapsed": true
   },
   "outputs": [
    {
     "name": "stdout",
     "output_type": "stream",
     "text": [
      "<class 'pandas.core.frame.DataFrame'>\n",
      "Int64Index: 1876 entries, 300 to 72697\n",
      "Data columns (total 34 columns):\n",
      " #   Column                      Non-Null Count  Dtype         \n",
      "---  ------                      --------------  -----         \n",
      " 0   id                          1876 non-null   int64         \n",
      " 1   receita_despesa             1876 non-null   object        \n",
      " 2   numero                      1876 non-null   object        \n",
      " 3   orgao_codigo                1876 non-null   int64         \n",
      " 4   orgao_nome                  1876 non-null   object        \n",
      " 5   unidade_codigo              1876 non-null   int64         \n",
      " 6   unidade_nome_resumido       1876 non-null   object        \n",
      " 7   unidade_nome                1876 non-null   object        \n",
      " 8   unidade_origem_codigo       1876 non-null   float64       \n",
      " 9   unidade_origem_nome         1876 non-null   object        \n",
      " 10  fornecedor_tipo             1876 non-null   object        \n",
      " 11  fonecedor_cnpj_cpf_idgener  1876 non-null   object        \n",
      " 12  fornecedor_nome             1876 non-null   object        \n",
      " 13  codigo_tipo                 1876 non-null   int64         \n",
      " 14  tipo                        1876 non-null   object        \n",
      " 15  categoria                   1876 non-null   object        \n",
      " 16  processo                    1876 non-null   object        \n",
      " 17  objeto                      1876 non-null   object        \n",
      " 18  fundamento_legal            1876 non-null   object        \n",
      " 19  informacao_complementar     1876 non-null   object        \n",
      " 20  codigo_modalidade           1876 non-null   object        \n",
      " 21  modalidade                  1876 non-null   object        \n",
      " 22  unidade_compra              1876 non-null   object        \n",
      " 23  licitacao_numero            1876 non-null   object        \n",
      " 24  data_assinatura             1876 non-null   datetime64[ns]\n",
      " 25  data_publicacao             1876 non-null   datetime64[ns]\n",
      " 26  vigencia_inicio             1876 non-null   datetime64[ns]\n",
      " 27  vigencia_fim                1876 non-null   datetime64[ns]\n",
      " 28  valor_inicial               1876 non-null   float64       \n",
      " 29  valor_global                1876 non-null   float64       \n",
      " 30  num_parcelas                1876 non-null   int64         \n",
      " 31  valor_parcela               1876 non-null   float64       \n",
      " 32  valor_acumulado             1876 non-null   float64       \n",
      " 33  situacao                    1876 non-null   object        \n",
      "dtypes: datetime64[ns](4), float64(5), int64(5), object(20)\n",
      "memory usage: 513.0+ KB\n"
     ]
    }
   ],
   "source": [
    "df[cols_date] = df[cols_date].astype('datetime64[ns]') # trasnformando as colunas em data\n",
    "df.info(0)"
   ]
  },
  {
   "cell_type": "code",
   "execution_count": 4,
   "id": "73324783",
   "metadata": {
    "collapsed": true
   },
   "outputs": [
    {
     "name": "stdout",
     "output_type": "stream",
     "text": [
      "maçã\n",
      "laranja\n",
      "morango\n"
     ]
    }
   ],
   "source": [
    "frutas =['maçã', 'laranja', 'morango']\n",
    "\n",
    "frutas2 = [x for x in frutas]\n",
    "\n",
    "for i in frutas2:\n",
    "    print(i)"
   ]
  }
 ],
 "metadata": {
  "kernelspec": {
   "display_name": "Python 3 (ipykernel)",
   "language": "python",
   "name": "python3"
  },
  "language_info": {
   "codemirror_mode": {
    "name": "ipython",
    "version": 3
   },
   "file_extension": ".py",
   "mimetype": "text/x-python",
   "name": "python",
   "nbconvert_exporter": "python",
   "pygments_lexer": "ipython3",
   "version": "3.9.12"
  }
 },
 "nbformat": 4,
 "nbformat_minor": 5
}
